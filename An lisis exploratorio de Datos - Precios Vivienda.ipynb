{
 "cells": [
  {
   "cell_type": "markdown",
   "id": "4b3dc7cf-8e76-4527-8096-1f118ffda9ef",
   "metadata": {},
   "source": [
    "# Analisis Exploratorio de Datos"
   ]
  },
  {
   "cell_type": "markdown",
   "id": "891c7cf8-e68d-47b2-bd7e-a099da41b7f1",
   "metadata": {},
   "source": [
    "## 1.- Introducción muuuuy rapida a Data Frames"
   ]
  },
  {
   "cell_type": "markdown",
   "id": "6e75c129-efe6-4a59-a392-919a6bdb88df",
   "metadata": {},
   "source": [
    "Puedes pensar en un **dataframe** como una variablesota donde puedes guardar tablas enteras (en vez de números o palabras sencillos).\n",
    "\n",
    "Los dataframes no son nativos de Python, vienen de una libreria llamada **Pandas**\n",
    "\n",
    "Lo primero que se necesita para trabajar con susodichos dataframes es... importar Pandas"
   ]
  },
  {
   "cell_type": "code",
   "execution_count": 1,
   "id": "d6147ea7-bffe-4100-91b9-5c9f491e033e",
   "metadata": {},
   "outputs": [],
   "source": [
    "import pandas as pd\n",
    "# pd = abreviasion de pandas"
   ]
  },
  {
   "cell_type": "markdown",
   "id": "cb301b02-48db-44e8-92a3-ab535fad4a0b",
   "metadata": {},
   "source": [
    "Ok, ahora vamos a crear un Dataframe que almacene todos los datos que vienen en nuestro archivo de Excel CSV"
   ]
  },
  {
   "cell_type": "code",
   "execution_count": 2,
   "id": "e06df6c5-4f86-476c-a5ac-58e21a13c158",
   "metadata": {},
   "outputs": [],
   "source": [
    "df_train = pd.read_csv('train.csv') # la variable contiene el metodo read_csv que lo trade de pandas (pd)"
   ]
  },
  {
   "cell_type": "markdown",
   "id": "e789b004-d035-4c65-819e-8302d0bb9947",
   "metadata": {},
   "source": [
    "Veamos como se importo nuestra base de datos a df"
   ]
  },
  {
   "cell_type": "markdown",
   "id": "5ad5d0f8-e72d-4242-8dcf-95cf9db6e532",
   "metadata": {},
   "source": [
    "Ok, veamos códigos útiles para analizar Dataframes. El primer método es **head**"
   ]
  },
  {
   "cell_type": "code",
   "execution_count": 3,
   "id": "ade01b31-07ed-4e17-b9ab-941d5a65e6fd",
   "metadata": {},
   "outputs": [
    {
     "data": {
      "text/html": [
       "<div>\n",
       "<style scoped>\n",
       "    .dataframe tbody tr th:only-of-type {\n",
       "        vertical-align: middle;\n",
       "    }\n",
       "\n",
       "    .dataframe tbody tr th {\n",
       "        vertical-align: top;\n",
       "    }\n",
       "\n",
       "    .dataframe thead th {\n",
       "        text-align: right;\n",
       "    }\n",
       "</style>\n",
       "<table border=\"1\" class=\"dataframe\">\n",
       "  <thead>\n",
       "    <tr style=\"text-align: right;\">\n",
       "      <th></th>\n",
       "      <th>Id</th>\n",
       "      <th>MSSubClass</th>\n",
       "      <th>MSZoning</th>\n",
       "      <th>LotFrontage</th>\n",
       "      <th>LotArea</th>\n",
       "      <th>Street</th>\n",
       "      <th>Alley</th>\n",
       "      <th>LotShape</th>\n",
       "      <th>LandContour</th>\n",
       "      <th>Utilities</th>\n",
       "      <th>...</th>\n",
       "      <th>PoolArea</th>\n",
       "      <th>PoolQC</th>\n",
       "      <th>Fence</th>\n",
       "      <th>MiscFeature</th>\n",
       "      <th>MiscVal</th>\n",
       "      <th>MoSold</th>\n",
       "      <th>YrSold</th>\n",
       "      <th>SaleType</th>\n",
       "      <th>SaleCondition</th>\n",
       "      <th>SalePrice</th>\n",
       "    </tr>\n",
       "  </thead>\n",
       "  <tbody>\n",
       "    <tr>\n",
       "      <th>0</th>\n",
       "      <td>1</td>\n",
       "      <td>60</td>\n",
       "      <td>RL</td>\n",
       "      <td>65.0</td>\n",
       "      <td>8450</td>\n",
       "      <td>Pave</td>\n",
       "      <td>NaN</td>\n",
       "      <td>Reg</td>\n",
       "      <td>Lvl</td>\n",
       "      <td>AllPub</td>\n",
       "      <td>...</td>\n",
       "      <td>0</td>\n",
       "      <td>NaN</td>\n",
       "      <td>NaN</td>\n",
       "      <td>NaN</td>\n",
       "      <td>0</td>\n",
       "      <td>2</td>\n",
       "      <td>2008</td>\n",
       "      <td>WD</td>\n",
       "      <td>Normal</td>\n",
       "      <td>208500</td>\n",
       "    </tr>\n",
       "    <tr>\n",
       "      <th>1</th>\n",
       "      <td>2</td>\n",
       "      <td>20</td>\n",
       "      <td>RL</td>\n",
       "      <td>80.0</td>\n",
       "      <td>9600</td>\n",
       "      <td>Pave</td>\n",
       "      <td>NaN</td>\n",
       "      <td>Reg</td>\n",
       "      <td>Lvl</td>\n",
       "      <td>AllPub</td>\n",
       "      <td>...</td>\n",
       "      <td>0</td>\n",
       "      <td>NaN</td>\n",
       "      <td>NaN</td>\n",
       "      <td>NaN</td>\n",
       "      <td>0</td>\n",
       "      <td>5</td>\n",
       "      <td>2007</td>\n",
       "      <td>WD</td>\n",
       "      <td>Normal</td>\n",
       "      <td>181500</td>\n",
       "    </tr>\n",
       "    <tr>\n",
       "      <th>2</th>\n",
       "      <td>3</td>\n",
       "      <td>60</td>\n",
       "      <td>RL</td>\n",
       "      <td>68.0</td>\n",
       "      <td>11250</td>\n",
       "      <td>Pave</td>\n",
       "      <td>NaN</td>\n",
       "      <td>IR1</td>\n",
       "      <td>Lvl</td>\n",
       "      <td>AllPub</td>\n",
       "      <td>...</td>\n",
       "      <td>0</td>\n",
       "      <td>NaN</td>\n",
       "      <td>NaN</td>\n",
       "      <td>NaN</td>\n",
       "      <td>0</td>\n",
       "      <td>9</td>\n",
       "      <td>2008</td>\n",
       "      <td>WD</td>\n",
       "      <td>Normal</td>\n",
       "      <td>223500</td>\n",
       "    </tr>\n",
       "    <tr>\n",
       "      <th>3</th>\n",
       "      <td>4</td>\n",
       "      <td>70</td>\n",
       "      <td>RL</td>\n",
       "      <td>60.0</td>\n",
       "      <td>9550</td>\n",
       "      <td>Pave</td>\n",
       "      <td>NaN</td>\n",
       "      <td>IR1</td>\n",
       "      <td>Lvl</td>\n",
       "      <td>AllPub</td>\n",
       "      <td>...</td>\n",
       "      <td>0</td>\n",
       "      <td>NaN</td>\n",
       "      <td>NaN</td>\n",
       "      <td>NaN</td>\n",
       "      <td>0</td>\n",
       "      <td>2</td>\n",
       "      <td>2006</td>\n",
       "      <td>WD</td>\n",
       "      <td>Abnorml</td>\n",
       "      <td>140000</td>\n",
       "    </tr>\n",
       "    <tr>\n",
       "      <th>4</th>\n",
       "      <td>5</td>\n",
       "      <td>60</td>\n",
       "      <td>RL</td>\n",
       "      <td>84.0</td>\n",
       "      <td>14260</td>\n",
       "      <td>Pave</td>\n",
       "      <td>NaN</td>\n",
       "      <td>IR1</td>\n",
       "      <td>Lvl</td>\n",
       "      <td>AllPub</td>\n",
       "      <td>...</td>\n",
       "      <td>0</td>\n",
       "      <td>NaN</td>\n",
       "      <td>NaN</td>\n",
       "      <td>NaN</td>\n",
       "      <td>0</td>\n",
       "      <td>12</td>\n",
       "      <td>2008</td>\n",
       "      <td>WD</td>\n",
       "      <td>Normal</td>\n",
       "      <td>250000</td>\n",
       "    </tr>\n",
       "    <tr>\n",
       "      <th>5</th>\n",
       "      <td>6</td>\n",
       "      <td>50</td>\n",
       "      <td>RL</td>\n",
       "      <td>85.0</td>\n",
       "      <td>14115</td>\n",
       "      <td>Pave</td>\n",
       "      <td>NaN</td>\n",
       "      <td>IR1</td>\n",
       "      <td>Lvl</td>\n",
       "      <td>AllPub</td>\n",
       "      <td>...</td>\n",
       "      <td>0</td>\n",
       "      <td>NaN</td>\n",
       "      <td>MnPrv</td>\n",
       "      <td>Shed</td>\n",
       "      <td>700</td>\n",
       "      <td>10</td>\n",
       "      <td>2009</td>\n",
       "      <td>WD</td>\n",
       "      <td>Normal</td>\n",
       "      <td>143000</td>\n",
       "    </tr>\n",
       "    <tr>\n",
       "      <th>6</th>\n",
       "      <td>7</td>\n",
       "      <td>20</td>\n",
       "      <td>RL</td>\n",
       "      <td>75.0</td>\n",
       "      <td>10084</td>\n",
       "      <td>Pave</td>\n",
       "      <td>NaN</td>\n",
       "      <td>Reg</td>\n",
       "      <td>Lvl</td>\n",
       "      <td>AllPub</td>\n",
       "      <td>...</td>\n",
       "      <td>0</td>\n",
       "      <td>NaN</td>\n",
       "      <td>NaN</td>\n",
       "      <td>NaN</td>\n",
       "      <td>0</td>\n",
       "      <td>8</td>\n",
       "      <td>2007</td>\n",
       "      <td>WD</td>\n",
       "      <td>Normal</td>\n",
       "      <td>307000</td>\n",
       "    </tr>\n",
       "    <tr>\n",
       "      <th>7</th>\n",
       "      <td>8</td>\n",
       "      <td>60</td>\n",
       "      <td>RL</td>\n",
       "      <td>NaN</td>\n",
       "      <td>10382</td>\n",
       "      <td>Pave</td>\n",
       "      <td>NaN</td>\n",
       "      <td>IR1</td>\n",
       "      <td>Lvl</td>\n",
       "      <td>AllPub</td>\n",
       "      <td>...</td>\n",
       "      <td>0</td>\n",
       "      <td>NaN</td>\n",
       "      <td>NaN</td>\n",
       "      <td>Shed</td>\n",
       "      <td>350</td>\n",
       "      <td>11</td>\n",
       "      <td>2009</td>\n",
       "      <td>WD</td>\n",
       "      <td>Normal</td>\n",
       "      <td>200000</td>\n",
       "    </tr>\n",
       "    <tr>\n",
       "      <th>8</th>\n",
       "      <td>9</td>\n",
       "      <td>50</td>\n",
       "      <td>RM</td>\n",
       "      <td>51.0</td>\n",
       "      <td>6120</td>\n",
       "      <td>Pave</td>\n",
       "      <td>NaN</td>\n",
       "      <td>Reg</td>\n",
       "      <td>Lvl</td>\n",
       "      <td>AllPub</td>\n",
       "      <td>...</td>\n",
       "      <td>0</td>\n",
       "      <td>NaN</td>\n",
       "      <td>NaN</td>\n",
       "      <td>NaN</td>\n",
       "      <td>0</td>\n",
       "      <td>4</td>\n",
       "      <td>2008</td>\n",
       "      <td>WD</td>\n",
       "      <td>Abnorml</td>\n",
       "      <td>129900</td>\n",
       "    </tr>\n",
       "    <tr>\n",
       "      <th>9</th>\n",
       "      <td>10</td>\n",
       "      <td>190</td>\n",
       "      <td>RL</td>\n",
       "      <td>50.0</td>\n",
       "      <td>7420</td>\n",
       "      <td>Pave</td>\n",
       "      <td>NaN</td>\n",
       "      <td>Reg</td>\n",
       "      <td>Lvl</td>\n",
       "      <td>AllPub</td>\n",
       "      <td>...</td>\n",
       "      <td>0</td>\n",
       "      <td>NaN</td>\n",
       "      <td>NaN</td>\n",
       "      <td>NaN</td>\n",
       "      <td>0</td>\n",
       "      <td>1</td>\n",
       "      <td>2008</td>\n",
       "      <td>WD</td>\n",
       "      <td>Normal</td>\n",
       "      <td>118000</td>\n",
       "    </tr>\n",
       "    <tr>\n",
       "      <th>10</th>\n",
       "      <td>11</td>\n",
       "      <td>20</td>\n",
       "      <td>RL</td>\n",
       "      <td>70.0</td>\n",
       "      <td>11200</td>\n",
       "      <td>Pave</td>\n",
       "      <td>NaN</td>\n",
       "      <td>Reg</td>\n",
       "      <td>Lvl</td>\n",
       "      <td>AllPub</td>\n",
       "      <td>...</td>\n",
       "      <td>0</td>\n",
       "      <td>NaN</td>\n",
       "      <td>NaN</td>\n",
       "      <td>NaN</td>\n",
       "      <td>0</td>\n",
       "      <td>2</td>\n",
       "      <td>2008</td>\n",
       "      <td>WD</td>\n",
       "      <td>Normal</td>\n",
       "      <td>129500</td>\n",
       "    </tr>\n",
       "    <tr>\n",
       "      <th>11</th>\n",
       "      <td>12</td>\n",
       "      <td>60</td>\n",
       "      <td>RL</td>\n",
       "      <td>85.0</td>\n",
       "      <td>11924</td>\n",
       "      <td>Pave</td>\n",
       "      <td>NaN</td>\n",
       "      <td>IR1</td>\n",
       "      <td>Lvl</td>\n",
       "      <td>AllPub</td>\n",
       "      <td>...</td>\n",
       "      <td>0</td>\n",
       "      <td>NaN</td>\n",
       "      <td>NaN</td>\n",
       "      <td>NaN</td>\n",
       "      <td>0</td>\n",
       "      <td>7</td>\n",
       "      <td>2006</td>\n",
       "      <td>New</td>\n",
       "      <td>Partial</td>\n",
       "      <td>345000</td>\n",
       "    </tr>\n",
       "    <tr>\n",
       "      <th>12</th>\n",
       "      <td>13</td>\n",
       "      <td>20</td>\n",
       "      <td>RL</td>\n",
       "      <td>NaN</td>\n",
       "      <td>12968</td>\n",
       "      <td>Pave</td>\n",
       "      <td>NaN</td>\n",
       "      <td>IR2</td>\n",
       "      <td>Lvl</td>\n",
       "      <td>AllPub</td>\n",
       "      <td>...</td>\n",
       "      <td>0</td>\n",
       "      <td>NaN</td>\n",
       "      <td>NaN</td>\n",
       "      <td>NaN</td>\n",
       "      <td>0</td>\n",
       "      <td>9</td>\n",
       "      <td>2008</td>\n",
       "      <td>WD</td>\n",
       "      <td>Normal</td>\n",
       "      <td>144000</td>\n",
       "    </tr>\n",
       "    <tr>\n",
       "      <th>13</th>\n",
       "      <td>14</td>\n",
       "      <td>20</td>\n",
       "      <td>RL</td>\n",
       "      <td>91.0</td>\n",
       "      <td>10652</td>\n",
       "      <td>Pave</td>\n",
       "      <td>NaN</td>\n",
       "      <td>IR1</td>\n",
       "      <td>Lvl</td>\n",
       "      <td>AllPub</td>\n",
       "      <td>...</td>\n",
       "      <td>0</td>\n",
       "      <td>NaN</td>\n",
       "      <td>NaN</td>\n",
       "      <td>NaN</td>\n",
       "      <td>0</td>\n",
       "      <td>8</td>\n",
       "      <td>2007</td>\n",
       "      <td>New</td>\n",
       "      <td>Partial</td>\n",
       "      <td>279500</td>\n",
       "    </tr>\n",
       "    <tr>\n",
       "      <th>14</th>\n",
       "      <td>15</td>\n",
       "      <td>20</td>\n",
       "      <td>RL</td>\n",
       "      <td>NaN</td>\n",
       "      <td>10920</td>\n",
       "      <td>Pave</td>\n",
       "      <td>NaN</td>\n",
       "      <td>IR1</td>\n",
       "      <td>Lvl</td>\n",
       "      <td>AllPub</td>\n",
       "      <td>...</td>\n",
       "      <td>0</td>\n",
       "      <td>NaN</td>\n",
       "      <td>GdWo</td>\n",
       "      <td>NaN</td>\n",
       "      <td>0</td>\n",
       "      <td>5</td>\n",
       "      <td>2008</td>\n",
       "      <td>WD</td>\n",
       "      <td>Normal</td>\n",
       "      <td>157000</td>\n",
       "    </tr>\n",
       "    <tr>\n",
       "      <th>15</th>\n",
       "      <td>16</td>\n",
       "      <td>45</td>\n",
       "      <td>RM</td>\n",
       "      <td>51.0</td>\n",
       "      <td>6120</td>\n",
       "      <td>Pave</td>\n",
       "      <td>NaN</td>\n",
       "      <td>Reg</td>\n",
       "      <td>Lvl</td>\n",
       "      <td>AllPub</td>\n",
       "      <td>...</td>\n",
       "      <td>0</td>\n",
       "      <td>NaN</td>\n",
       "      <td>GdPrv</td>\n",
       "      <td>NaN</td>\n",
       "      <td>0</td>\n",
       "      <td>7</td>\n",
       "      <td>2007</td>\n",
       "      <td>WD</td>\n",
       "      <td>Normal</td>\n",
       "      <td>132000</td>\n",
       "    </tr>\n",
       "    <tr>\n",
       "      <th>16</th>\n",
       "      <td>17</td>\n",
       "      <td>20</td>\n",
       "      <td>RL</td>\n",
       "      <td>NaN</td>\n",
       "      <td>11241</td>\n",
       "      <td>Pave</td>\n",
       "      <td>NaN</td>\n",
       "      <td>IR1</td>\n",
       "      <td>Lvl</td>\n",
       "      <td>AllPub</td>\n",
       "      <td>...</td>\n",
       "      <td>0</td>\n",
       "      <td>NaN</td>\n",
       "      <td>NaN</td>\n",
       "      <td>Shed</td>\n",
       "      <td>700</td>\n",
       "      <td>3</td>\n",
       "      <td>2010</td>\n",
       "      <td>WD</td>\n",
       "      <td>Normal</td>\n",
       "      <td>149000</td>\n",
       "    </tr>\n",
       "    <tr>\n",
       "      <th>17</th>\n",
       "      <td>18</td>\n",
       "      <td>90</td>\n",
       "      <td>RL</td>\n",
       "      <td>72.0</td>\n",
       "      <td>10791</td>\n",
       "      <td>Pave</td>\n",
       "      <td>NaN</td>\n",
       "      <td>Reg</td>\n",
       "      <td>Lvl</td>\n",
       "      <td>AllPub</td>\n",
       "      <td>...</td>\n",
       "      <td>0</td>\n",
       "      <td>NaN</td>\n",
       "      <td>NaN</td>\n",
       "      <td>Shed</td>\n",
       "      <td>500</td>\n",
       "      <td>10</td>\n",
       "      <td>2006</td>\n",
       "      <td>WD</td>\n",
       "      <td>Normal</td>\n",
       "      <td>90000</td>\n",
       "    </tr>\n",
       "    <tr>\n",
       "      <th>18</th>\n",
       "      <td>19</td>\n",
       "      <td>20</td>\n",
       "      <td>RL</td>\n",
       "      <td>66.0</td>\n",
       "      <td>13695</td>\n",
       "      <td>Pave</td>\n",
       "      <td>NaN</td>\n",
       "      <td>Reg</td>\n",
       "      <td>Lvl</td>\n",
       "      <td>AllPub</td>\n",
       "      <td>...</td>\n",
       "      <td>0</td>\n",
       "      <td>NaN</td>\n",
       "      <td>NaN</td>\n",
       "      <td>NaN</td>\n",
       "      <td>0</td>\n",
       "      <td>6</td>\n",
       "      <td>2008</td>\n",
       "      <td>WD</td>\n",
       "      <td>Normal</td>\n",
       "      <td>159000</td>\n",
       "    </tr>\n",
       "    <tr>\n",
       "      <th>19</th>\n",
       "      <td>20</td>\n",
       "      <td>20</td>\n",
       "      <td>RL</td>\n",
       "      <td>70.0</td>\n",
       "      <td>7560</td>\n",
       "      <td>Pave</td>\n",
       "      <td>NaN</td>\n",
       "      <td>Reg</td>\n",
       "      <td>Lvl</td>\n",
       "      <td>AllPub</td>\n",
       "      <td>...</td>\n",
       "      <td>0</td>\n",
       "      <td>NaN</td>\n",
       "      <td>MnPrv</td>\n",
       "      <td>NaN</td>\n",
       "      <td>0</td>\n",
       "      <td>5</td>\n",
       "      <td>2009</td>\n",
       "      <td>COD</td>\n",
       "      <td>Abnorml</td>\n",
       "      <td>139000</td>\n",
       "    </tr>\n",
       "  </tbody>\n",
       "</table>\n",
       "<p>20 rows × 81 columns</p>\n",
       "</div>"
      ],
      "text/plain": [
       "    Id  MSSubClass MSZoning  LotFrontage  LotArea Street Alley LotShape  \\\n",
       "0    1          60       RL         65.0     8450   Pave   NaN      Reg   \n",
       "1    2          20       RL         80.0     9600   Pave   NaN      Reg   \n",
       "2    3          60       RL         68.0    11250   Pave   NaN      IR1   \n",
       "3    4          70       RL         60.0     9550   Pave   NaN      IR1   \n",
       "4    5          60       RL         84.0    14260   Pave   NaN      IR1   \n",
       "5    6          50       RL         85.0    14115   Pave   NaN      IR1   \n",
       "6    7          20       RL         75.0    10084   Pave   NaN      Reg   \n",
       "7    8          60       RL          NaN    10382   Pave   NaN      IR1   \n",
       "8    9          50       RM         51.0     6120   Pave   NaN      Reg   \n",
       "9   10         190       RL         50.0     7420   Pave   NaN      Reg   \n",
       "10  11          20       RL         70.0    11200   Pave   NaN      Reg   \n",
       "11  12          60       RL         85.0    11924   Pave   NaN      IR1   \n",
       "12  13          20       RL          NaN    12968   Pave   NaN      IR2   \n",
       "13  14          20       RL         91.0    10652   Pave   NaN      IR1   \n",
       "14  15          20       RL          NaN    10920   Pave   NaN      IR1   \n",
       "15  16          45       RM         51.0     6120   Pave   NaN      Reg   \n",
       "16  17          20       RL          NaN    11241   Pave   NaN      IR1   \n",
       "17  18          90       RL         72.0    10791   Pave   NaN      Reg   \n",
       "18  19          20       RL         66.0    13695   Pave   NaN      Reg   \n",
       "19  20          20       RL         70.0     7560   Pave   NaN      Reg   \n",
       "\n",
       "   LandContour Utilities  ... PoolArea PoolQC  Fence MiscFeature MiscVal  \\\n",
       "0          Lvl    AllPub  ...        0    NaN    NaN         NaN       0   \n",
       "1          Lvl    AllPub  ...        0    NaN    NaN         NaN       0   \n",
       "2          Lvl    AllPub  ...        0    NaN    NaN         NaN       0   \n",
       "3          Lvl    AllPub  ...        0    NaN    NaN         NaN       0   \n",
       "4          Lvl    AllPub  ...        0    NaN    NaN         NaN       0   \n",
       "5          Lvl    AllPub  ...        0    NaN  MnPrv        Shed     700   \n",
       "6          Lvl    AllPub  ...        0    NaN    NaN         NaN       0   \n",
       "7          Lvl    AllPub  ...        0    NaN    NaN        Shed     350   \n",
       "8          Lvl    AllPub  ...        0    NaN    NaN         NaN       0   \n",
       "9          Lvl    AllPub  ...        0    NaN    NaN         NaN       0   \n",
       "10         Lvl    AllPub  ...        0    NaN    NaN         NaN       0   \n",
       "11         Lvl    AllPub  ...        0    NaN    NaN         NaN       0   \n",
       "12         Lvl    AllPub  ...        0    NaN    NaN         NaN       0   \n",
       "13         Lvl    AllPub  ...        0    NaN    NaN         NaN       0   \n",
       "14         Lvl    AllPub  ...        0    NaN   GdWo         NaN       0   \n",
       "15         Lvl    AllPub  ...        0    NaN  GdPrv         NaN       0   \n",
       "16         Lvl    AllPub  ...        0    NaN    NaN        Shed     700   \n",
       "17         Lvl    AllPub  ...        0    NaN    NaN        Shed     500   \n",
       "18         Lvl    AllPub  ...        0    NaN    NaN         NaN       0   \n",
       "19         Lvl    AllPub  ...        0    NaN  MnPrv         NaN       0   \n",
       "\n",
       "   MoSold YrSold  SaleType  SaleCondition  SalePrice  \n",
       "0       2   2008        WD         Normal     208500  \n",
       "1       5   2007        WD         Normal     181500  \n",
       "2       9   2008        WD         Normal     223500  \n",
       "3       2   2006        WD        Abnorml     140000  \n",
       "4      12   2008        WD         Normal     250000  \n",
       "5      10   2009        WD         Normal     143000  \n",
       "6       8   2007        WD         Normal     307000  \n",
       "7      11   2009        WD         Normal     200000  \n",
       "8       4   2008        WD        Abnorml     129900  \n",
       "9       1   2008        WD         Normal     118000  \n",
       "10      2   2008        WD         Normal     129500  \n",
       "11      7   2006       New        Partial     345000  \n",
       "12      9   2008        WD         Normal     144000  \n",
       "13      8   2007       New        Partial     279500  \n",
       "14      5   2008        WD         Normal     157000  \n",
       "15      7   2007        WD         Normal     132000  \n",
       "16      3   2010        WD         Normal     149000  \n",
       "17     10   2006        WD         Normal      90000  \n",
       "18      6   2008        WD         Normal     159000  \n",
       "19      5   2009       COD        Abnorml     139000  \n",
       "\n",
       "[20 rows x 81 columns]"
      ]
     },
     "execution_count": 3,
     "metadata": {},
     "output_type": "execute_result"
    }
   ],
   "source": [
    "df_train.head(20) # metodo head() trae los 1ros 20 elementos de la tabla"
   ]
  },
  {
   "cell_type": "markdown",
   "id": "5c0ffdb2-93ed-4a22-a98a-08c357c47aef",
   "metadata": {},
   "source": [
    "Ahora conozcamos **shape**"
   ]
  },
  {
   "cell_type": "code",
   "execution_count": 4,
   "id": "e802c048-8e02-4fe8-9f05-9e6b00d49cdb",
   "metadata": {},
   "outputs": [
    {
     "data": {
      "text/plain": [
       "(1460, 81)"
      ]
     },
     "execution_count": 4,
     "metadata": {},
     "output_type": "execute_result"
    }
   ],
   "source": [
    "df_train.shape # muestra la cantidad de la cantidad de datos y columnas "
   ]
  },
  {
   "cell_type": "markdown",
   "id": "39466be7-8be3-4f7d-97bf-6977f9bec80a",
   "metadata": {},
   "source": [
    "Que al si quieremos ver una columna en especifico? ponemos el nombre de la columna entre corchetes"
   ]
  },
  {
   "cell_type": "code",
   "execution_count": null,
   "id": "3b0a1209-43c5-4e46-8b46-c858c4554c56",
   "metadata": {},
   "outputs": [],
   "source": []
  },
  {
   "cell_type": "markdown",
   "id": "61468c0d-6835-498b-ab44-78239b46cd65",
   "metadata": {},
   "source": [
    "Ok, ahora vamos viendo 2 columnas a la vez"
   ]
  },
  {
   "cell_type": "code",
   "execution_count": null,
   "id": "3c905c17-f03d-49b4-8bb3-b4a44422dbdf",
   "metadata": {},
   "outputs": [],
   "source": []
  },
  {
   "cell_type": "markdown",
   "id": "04772114-c227-4ace-9dad-81c10e443eda",
   "metadata": {},
   "source": [
    "Por último, vamos pégandole a la estádistica descriptiva. El método **mean** te da los promedios que quieres saber del DF"
   ]
  },
  {
   "cell_type": "code",
   "execution_count": null,
   "id": "a151fd48-5f73-4035-94e2-cbc5029039c7",
   "metadata": {},
   "outputs": [],
   "source": []
  },
  {
   "cell_type": "markdown",
   "id": "7dce9ffe-f6f4-4bd7-86ff-b5019c36c1fe",
   "metadata": {},
   "source": [
    "Y el método **Describe** te da un resumen de todo en el Dataframe"
   ]
  },
  {
   "cell_type": "code",
   "execution_count": null,
   "id": "6f2f9a87-ad3e-4580-a46c-be88c0fcd3f9",
   "metadata": {},
   "outputs": [],
   "source": []
  },
  {
   "cell_type": "markdown",
   "id": "d698680a-4d87-429a-994e-f5e38133e30f",
   "metadata": {},
   "source": [
    "## 2.- Primeros pasos - traer todo lo importante"
   ]
  },
  {
   "cell_type": "markdown",
   "id": "2cb0e420-7010-4c8d-8f12-a728ec8427bb",
   "metadata": {},
   "source": [
    "Importa todas las librerías que vas a necesitar\n",
    "\n",
    "- pandas como pd\n",
    "- matplotlib.pyplot como plt\n",
    "- seaborn como sns\n",
    "- numpy como np\n",
    "- scipy.stats traer norm\n",
    "- sklearn.preprocessing traer standardscaler\n",
    "- scipy traer stats\n",
    "- warnings\n",
    "\n",
    "y %matplotlib inline"
   ]
  },
  {
   "cell_type": "code",
   "execution_count": null,
   "id": "e72d3a15-5024-440f-a6aa-cb8dae0dc911",
   "metadata": {},
   "outputs": [],
   "source": []
  },
  {
   "cell_type": "markdown",
   "id": "7fb7a0a0-a72b-4a2c-a11b-ba4965a780d3",
   "metadata": {},
   "source": [
    "Importa el csv de train.csv para poder tener los datos"
   ]
  },
  {
   "cell_type": "markdown",
   "id": "1d924520-a26a-4400-9b7e-336d7a343298",
   "metadata": {},
   "source": [
    "La idea es identificar cuales columnas creemos que van a tener el mayor impacto sobre el precio de la vivienda. \n",
    "\n",
    "Al final veremos que las columnas con mayor impacto son:\n",
    "\n",
    "Variables de Construcción\n",
    "- CalidadTotal\n",
    "- AñoConstruccion\n",
    "\n",
    "Variables de Espacio\n",
    "- AreaSotano\n",
    "- AreaVivienda"
   ]
  },
  {
   "cell_type": "markdown",
   "id": "839536b8-8e7d-4848-be6d-9ef032b87cc8",
   "metadata": {},
   "source": [
    "## 3.- Analisis de Precio de Ventas"
   ]
  },
  {
   "cell_type": "markdown",
   "id": "e7bc2e6a-6be6-40f7-8d45-a63027499b14",
   "metadata": {},
   "source": [
    "Lo primero es conocer a \"PrecioVenta\". Vamos viendo su **describe**"
   ]
  },
  {
   "cell_type": "code",
   "execution_count": null,
   "id": "4efbfc14-e74a-4e49-8b6b-59ec250854a0",
   "metadata": {},
   "outputs": [],
   "source": []
  },
  {
   "cell_type": "markdown",
   "id": "cf34bbb4-c774-492c-9ef0-1f3b0af04095",
   "metadata": {},
   "source": [
    "Ahora vamos pidiendole una foto - hagamos una gráfica de **distplot**\n",
    "\n",
    "Veremos que\n",
    "- Se desvía de la distribucion normal\n",
    "- Tiene Skew positivo (oblicuidad)\n",
    "- Muestra Peakedness (kurtosis??)"
   ]
  },
  {
   "cell_type": "code",
   "execution_count": null,
   "id": "96fe5977-90ee-4cdb-9c65-c0852739ec02",
   "metadata": {},
   "outputs": [],
   "source": []
  },
  {
   "cell_type": "markdown",
   "id": "7f53cfbb-1259-4053-bd0c-76bab3b89497",
   "metadata": {},
   "source": [
    "Podemos conocer el skewness y la kurtosis de la gráfica usando los métodos **skew** y **kurt**"
   ]
  },
  {
   "cell_type": "code",
   "execution_count": null,
   "id": "8b9a86a8-9cd8-45eb-ba7f-ae3ae477b19d",
   "metadata": {},
   "outputs": [],
   "source": []
  },
  {
   "cell_type": "code",
   "execution_count": null,
   "id": "2bd16ae1-6ca7-46dc-bdec-11c88d963813",
   "metadata": {},
   "outputs": [],
   "source": []
  },
  {
   "cell_type": "markdown",
   "id": "767cf9d0-de8d-43c0-af45-13bf58ce06fe",
   "metadata": {},
   "source": [
    "Vamos viendo que sucede con las amigas de \"PrecioVenta\" - dibujemos un ScatterPlot de PrecioVenta vs AreaVivienda. Nota como vamos a reducir el dataframe a solo 2 columnas para no tener que usar todo\n",
    "\n",
    "Primero declara una variable var que contenga el area vivible"
   ]
  },
  {
   "cell_type": "code",
   "execution_count": null,
   "id": "3c1ec18b-af2c-4e87-addf-ab3244a2cbd5",
   "metadata": {},
   "outputs": [],
   "source": []
  },
  {
   "cell_type": "markdown",
   "id": "a4553b02-a0bd-431b-b401-bfc530d6c593",
   "metadata": {},
   "source": [
    "Luego vamos a usar pd.concat para crear una tabla de solo 2 columnas con area vivible (var) y Precio de venta que se llame data"
   ]
  },
  {
   "cell_type": "code",
   "execution_count": null,
   "id": "f5048d35-60c7-4fc2-8a44-b62088cfa1ae",
   "metadata": {},
   "outputs": [],
   "source": []
  },
  {
   "cell_type": "code",
   "execution_count": null,
   "id": "9b44153a-a8d8-461f-88e0-f37aa4df4e8d",
   "metadata": {},
   "outputs": [],
   "source": []
  },
  {
   "cell_type": "markdown",
   "id": "e7a343e3-d7fe-4d49-901c-63369df862e5",
   "metadata": {},
   "source": [
    "y ahora vamos a terminar con un data.plot.scatter para crear una grafica de scatterplot. "
   ]
  },
  {
   "cell_type": "code",
   "execution_count": null,
   "id": "5a18b734-fda0-4e91-9c3d-88ee9832ce64",
   "metadata": {},
   "outputs": [],
   "source": []
  },
  {
   "cell_type": "markdown",
   "id": "a63abcdb-17bb-4ee1-89b4-4b643e13cf30",
   "metadata": {},
   "source": [
    "Ahora que pasa con \"PrecioVenta\" y \"AreaSotano\"? Son amigas pero su relación no es lineal. Sin mencionar que a veces, el AreaSotano se va en su onda y evita el PrecioVenta"
   ]
  },
  {
   "cell_type": "code",
   "execution_count": null,
   "id": "437797dd-a3a3-427d-9820-c098c19715ac",
   "metadata": {},
   "outputs": [],
   "source": []
  },
  {
   "cell_type": "markdown",
   "id": "c5e3af43-23e9-44fa-a5ad-f058c5a58637",
   "metadata": {},
   "source": [
    "#### Relaciones categóricas"
   ]
  },
  {
   "cell_type": "markdown",
   "id": "a563d760-8bd7-42a5-aab8-5540ea936bd5",
   "metadata": {},
   "source": [
    "Vamos ahor a armar una gráfica de boxplot para verificar el efecto de la Calidad sobre el precio de ventas. \n",
    "\n",
    "Comenzamos igual, declara una variable var = \"CalidadTotal\"\n",
    "\n",
    "Y una data donde concatenes el precio de ventas con var"
   ]
  },
  {
   "cell_type": "code",
   "execution_count": null,
   "id": "4c924040-28c7-487d-8984-e48d284f1d8c",
   "metadata": {},
   "outputs": [],
   "source": []
  },
  {
   "cell_type": "code",
   "execution_count": null,
   "id": "e93aee68-8166-46a5-8379-95146103d207",
   "metadata": {},
   "outputs": [],
   "source": []
  },
  {
   "cell_type": "code",
   "execution_count": null,
   "id": "ff628a8a-1c6e-41fc-99fc-2d3638f1a01e",
   "metadata": {},
   "outputs": [],
   "source": []
  },
  {
   "cell_type": "markdown",
   "id": "476d316c-45bd-45f1-90aa-bc4cd0d236b2",
   "metadata": {},
   "source": [
    "Ahora viene lo dificl, en dos variables f y ax, vas a guardar el resultado de un plt.subplots - donde se define la nueva figura donde existirá la gráfica que se va a crear. F y ax es la figura y los ejes que devuelve la instruccion"
   ]
  },
  {
   "cell_type": "code",
   "execution_count": null,
   "id": "1b896e51-7416-417f-b7fd-de205a050373",
   "metadata": {},
   "outputs": [],
   "source": []
  },
  {
   "cell_type": "markdown",
   "id": "25bcfec9-3439-4561-baa7-c732884f22ff",
   "metadata": {},
   "source": [
    "por ultimo, definimos fig como una variable donde haremos un sns.boxplot (para guardar la grafica)"
   ]
  },
  {
   "cell_type": "markdown",
   "id": "eba25dba-6d64-4251-9d1a-470f9a49dbb9",
   "metadata": {},
   "source": [
    "y definiremos el eje fig.axis de 0 a 8000000"
   ]
  },
  {
   "cell_type": "markdown",
   "id": "e7f9ee13-9f23-44cc-808b-6647311692a4",
   "metadata": {},
   "source": [
    "Hagamos lo exacto mismo pero con Precio de Venta vs Año Construida"
   ]
  },
  {
   "cell_type": "code",
   "execution_count": null,
   "id": "ec8116d5-6fff-41fb-b133-1eb00a8a0ec5",
   "metadata": {},
   "outputs": [],
   "source": []
  },
  {
   "cell_type": "code",
   "execution_count": null,
   "id": "a86a0ea4-8fe6-4fcb-b012-369a93d2bb64",
   "metadata": {},
   "outputs": [],
   "source": []
  },
  {
   "cell_type": "code",
   "execution_count": null,
   "id": "8f62e3ba-ae69-47ea-a4bb-680370c42810",
   "metadata": {},
   "outputs": [],
   "source": []
  },
  {
   "cell_type": "code",
   "execution_count": null,
   "id": "e03b6cdb-263b-4bb7-b371-2d20585d0d17",
   "metadata": {},
   "outputs": [],
   "source": []
  },
  {
   "cell_type": "code",
   "execution_count": null,
   "id": "ff02f2a4-6197-4b97-9300-027e22252c95",
   "metadata": {},
   "outputs": [],
   "source": []
  },
  {
   "cell_type": "code",
   "execution_count": null,
   "id": "b97bf678-34f3-4918-99bf-4b57dc209c03",
   "metadata": {},
   "outputs": [],
   "source": []
  },
  {
   "cell_type": "markdown",
   "id": "eddce995-ae25-4cfe-bb78-c269d30cb2fe",
   "metadata": {},
   "source": [
    "#### En resumen"
   ]
  },
  {
   "cell_type": "markdown",
   "id": "12b1f727-6e6a-41bb-a4fe-d525c6d50765",
   "metadata": {},
   "source": [
    "¿Que es lo que observas de las variables númericas?"
   ]
  },
  {
   "cell_type": "markdown",
   "id": "641780e5-7a7f-4b42-a822-f6db58b287b8",
   "metadata": {},
   "source": [
    "¿Que es lo que observas de las variables catégoricas"
   ]
  },
  {
   "cell_type": "markdown",
   "id": "31eb7e7b-1fe7-495b-9683-87b168cc3fd5",
   "metadata": {},
   "source": [
    "## 4.- Confirmando nuestra intuición"
   ]
  },
  {
   "cell_type": "markdown",
   "id": "ab75152c-2af2-4055-a89f-89d00acda5c8",
   "metadata": {},
   "source": [
    "Hasta ahora decidimos a puro pulso que estas 4 eran las variables importantes, vamos confirmando con números si es verdad o no"
   ]
  },
  {
   "cell_type": "markdown",
   "id": "a963054a-6736-4ac8-abd7-d27a45555ffc",
   "metadata": {},
   "source": [
    "### 4.1.- Matriz de Correlación"
   ]
  },
  {
   "cell_type": "markdown",
   "id": "26db1760-1106-45fd-9960-7732975d56b8",
   "metadata": {},
   "source": [
    "Lo primero es armar una matriz de correlación (mapa de calor) para ver cuales son las variables más correlacionadas\n",
    "\n",
    "Vamos declarando una variable corrmat = df_train.corr() con todas las correlaciones entre variables"
   ]
  },
  {
   "cell_type": "code",
   "execution_count": null,
   "id": "38093c3b-22df-4173-96b9-7780d5588b0f",
   "metadata": {},
   "outputs": [],
   "source": []
  },
  {
   "cell_type": "code",
   "execution_count": null,
   "id": "a3587314-7011-403d-80da-522106e2a54a",
   "metadata": {},
   "outputs": [],
   "source": []
  },
  {
   "cell_type": "markdown",
   "id": "4b3e1609-c67c-4684-bcba-ef05e59b0b40",
   "metadata": {},
   "source": [
    "Luego unas f,ax para declarar un plt.subplots"
   ]
  },
  {
   "cell_type": "code",
   "execution_count": null,
   "id": "69c6237f-6f97-4c01-9fe7-311317d46970",
   "metadata": {},
   "outputs": [],
   "source": []
  },
  {
   "cell_type": "markdown",
   "id": "3876930c-b1e2-4545-9bef-63f8331138f0",
   "metadata": {},
   "source": [
    "Y finalmente hacemos el sns.heatmap"
   ]
  },
  {
   "cell_type": "markdown",
   "id": "870a2177-936f-47d2-af45-77781881dc2b",
   "metadata": {},
   "source": [
    "### 4.2.- Matriz de Correlación con Números"
   ]
  },
  {
   "cell_type": "markdown",
   "id": "563da05e-aaaf-4ad4-8935-8dee3fed87d4",
   "metadata": {},
   "source": [
    "Ok, vamos haciendo lo mismo pero ahora con números - y vamos viendo quien se correlaciona más - sin llegar al punto que las 2 variables sean basicamente lo mismo claro\n",
    "\n",
    "Comenzamos declarando k=10"
   ]
  },
  {
   "cell_type": "code",
   "execution_count": null,
   "id": "83ccf34e-5561-41c3-90ba-652ec28a4b9e",
   "metadata": {},
   "outputs": [],
   "source": []
  },
  {
   "cell_type": "markdown",
   "id": "6943a61a-76e1-49bc-9bb1-5413918950f5",
   "metadata": {},
   "source": [
    "Luego cols = corrmat.nlargest(k, 'SalePrice')['SalePrice'].inde"
   ]
  },
  {
   "cell_type": "code",
   "execution_count": null,
   "id": "d1e3f134-862e-4393-b02a-8c7b26a5c304",
   "metadata": {},
   "outputs": [],
   "source": []
  },
  {
   "cell_type": "code",
   "execution_count": null,
   "id": "1f6de44f-ee11-4969-bce0-a2465746cebe",
   "metadata": {},
   "outputs": [],
   "source": []
  },
  {
   "cell_type": "markdown",
   "id": "296af00f-06fe-40ef-b40b-8ce3087e9d66",
   "metadata": {},
   "source": [
    "A continuación vamos a cm = np.corrcoef(df_train[cols].values.T)"
   ]
  },
  {
   "cell_type": "code",
   "execution_count": null,
   "id": "c4b3dacd-6dc6-4fb4-acee-e2271a91bf70",
   "metadata": {},
   "outputs": [],
   "source": []
  },
  {
   "cell_type": "code",
   "execution_count": null,
   "id": "022b28f2-a96a-437e-94a8-e1f74fb2bb6e",
   "metadata": {},
   "outputs": [],
   "source": []
  },
  {
   "cell_type": "markdown",
   "id": "e6aaa719-a4fc-40bc-8942-96036f9767a4",
   "metadata": {},
   "source": [
    "Seguimos con sns.set(font_scale=1.25)"
   ]
  },
  {
   "cell_type": "code",
   "execution_count": null,
   "id": "dfc0605a-442d-4607-a743-7646d6ff03d8",
   "metadata": {},
   "outputs": [],
   "source": []
  },
  {
   "cell_type": "markdown",
   "id": "7d0401a6-3425-4809-92a0-2e0cd1c88bde",
   "metadata": {},
   "source": [
    "Armarmos el heatmap con hm = sns.heatmap(cm, cbar=True, annot=True, square=True, fmt='.2f', annot_kws={'size': 10}, yticklabels=cols.values, xticklabels=cols.values)"
   ]
  },
  {
   "cell_type": "code",
   "execution_count": null,
   "id": "eb68431c-ee5f-4a39-bd62-1229502a41fd",
   "metadata": {},
   "outputs": [],
   "source": []
  },
  {
   "cell_type": "markdown",
   "id": "082e88e5-fd25-4f49-8735-8de65707078c",
   "metadata": {},
   "source": [
    "Podemos ver que:\n",
    "- Calidad, AreaVivienda y area Sotano estan muy fuertemente correlacionadas con PrecioVenta\n",
    "- Las variables de garage están super correlacionadas\n",
    "- Sotano y 1er piso son basicamente hermanos gemelos\n",
    "- Y AñoConstruccion esta ligeramente correlacionada con PrecioVenta, parece que en un futuro habra que hacer un analisis de serie de tiempo más serio."
   ]
  },
  {
   "cell_type": "markdown",
   "id": "2ac922de-e572-415e-9219-26ca0639dfb6",
   "metadata": {},
   "source": [
    "### 4.3.- Scatter Plots entre Sale Price y variables Correlacionados"
   ]
  },
  {
   "cell_type": "markdown",
   "id": "ffcb418d-a37f-4261-83c2-4cd2bfa34a03",
   "metadata": {},
   "source": [
    "Por utlimo, hagamos scatterplots usando seabron de todas las posibles relaciones que podríamos tener en nuestro dataset - entre las variables que nos importan claro.\n",
    "\n",
    "Comenzamos declarando sns.set()"
   ]
  },
  {
   "cell_type": "code",
   "execution_count": null,
   "id": "7089ee84-67e9-4f28-8743-f6c2f32b5d55",
   "metadata": {},
   "outputs": [],
   "source": []
  },
  {
   "cell_type": "markdown",
   "id": "3fbcadbd-6220-447c-af8a-b6608b43f797",
   "metadata": {},
   "source": [
    "Luego cols = ['SalePrice', 'OverallQual', 'GrLivArea', 'GarageCars', 'TotalBsmtSF', 'FullBath', 'YearBuilt']"
   ]
  },
  {
   "cell_type": "code",
   "execution_count": null,
   "id": "cdac00f4-25d3-43c8-8874-0827ce1c3052",
   "metadata": {},
   "outputs": [],
   "source": []
  },
  {
   "cell_type": "markdown",
   "id": "6e13376b-375e-4169-8fa2-b5d4b06fa0d4",
   "metadata": {},
   "source": [
    "Seguimos con sns.pairplot(df_train)"
   ]
  },
  {
   "cell_type": "code",
   "execution_count": null,
   "id": "59179913-8229-4552-9ca6-d252f4edaddd",
   "metadata": {},
   "outputs": [],
   "source": []
  },
  {
   "cell_type": "markdown",
   "id": "4666b43e-cb45-41d0-9ab7-ac443b4c05ea",
   "metadata": {},
   "source": [
    "Y terminamos con plt.show();"
   ]
  }
 ],
 "metadata": {
  "kernelspec": {
   "display_name": "Python 3 (ipykernel)",
   "language": "python",
   "name": "python3"
  },
  "language_info": {
   "codemirror_mode": {
    "name": "ipython",
    "version": 3
   },
   "file_extension": ".py",
   "mimetype": "text/x-python",
   "name": "python",
   "nbconvert_exporter": "python",
   "pygments_lexer": "ipython3",
   "version": "3.9.12"
  }
 },
 "nbformat": 4,
 "nbformat_minor": 5
}
