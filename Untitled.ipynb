{
 "cells": [
  {
   "cell_type": "raw",
   "id": "e5da6901-9925-4168-9240-b171ebcedad7",
   "metadata": {},
   "source": [
    "Celda = snipet -> son las celdas donde codeamos y ejecutamos python\n",
    "ctrl + enter -> ejecuta el codigo\n",
    "alt + enter -> ejecuta el codigo y crea una nueva celta\n",
    "markdow -> para escribir texto, tablas, imagenes etc...\n",
    "    ** -> para negritas\n",
    "    \n"
   ]
  },
  {
   "cell_type": "markdown",
   "id": "513bd9a5-4db4-4b19-8ab4-7a71d8c5f82b",
   "metadata": {},
   "source": [
    "# Esto es un titulo GRANDE\n",
    "## Esto es un titulo MEDIANO\n",
    "### Esto es un titulo PEQUEÑO\n",
    "**negrita**"
   ]
  },
  {
   "cell_type": "markdown",
   "id": "28beefca-e09c-4a64-bc1c-dbe1981a2d6a",
   "metadata": {},
   "source": [
    "### Variables = Objetos\n",
    "### data frame: asi es como se llaman a las tablas en python"
   ]
  },
  {
   "cell_type": "code",
   "execution_count": 11,
   "id": "356c1ce9-d1b2-48fa-ba3b-0732e0e1c513",
   "metadata": {},
   "outputs": [
    {
     "name": "stdout",
     "output_type": "stream",
     "text": [
      "99\n"
     ]
    }
   ],
   "source": [
    "num_1 = 43\n",
    "num_2 = 56\n",
    "print(num_1 + num_2)"
   ]
  }
 ],
 "metadata": {
  "kernelspec": {
   "display_name": "Python 3 (ipykernel)",
   "language": "python",
   "name": "python3"
  },
  "language_info": {
   "codemirror_mode": {
    "name": "ipython",
    "version": 3
   },
   "file_extension": ".py",
   "mimetype": "text/x-python",
   "name": "python",
   "nbconvert_exporter": "python",
   "pygments_lexer": "ipython3",
   "version": "3.9.12"
  }
 },
 "nbformat": 4,
 "nbformat_minor": 5
}
