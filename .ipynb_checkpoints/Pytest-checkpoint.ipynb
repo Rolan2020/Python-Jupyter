{
 "cells": [
  {
   "cell_type": "code",
   "execution_count": 14,
   "id": "3fa9196b",
   "metadata": {},
   "outputs": [
    {
     "name": "stdout",
     "output_type": "stream",
     "text": [
      "Collecting jupyter-pytest-2\n",
      "  Downloading jupyter-pytest-2-1.0.1.tar.gz (3.2 kB)\n",
      "  Preparing metadata (setup.py): started\n",
      "  Preparing metadata (setup.py): finished with status 'done'\n",
      "Requirement already satisfied: pytest>=5.0 in c:\\users\\rolo\\anaconda3\\lib\\site-packages (from jupyter-pytest-2) (7.1.1)\n",
      "Requirement already satisfied: notebook>=6.0 in c:\\users\\rolo\\anaconda3\\lib\\site-packages (from jupyter-pytest-2) (6.4.8)\n",
      "Requirement already satisfied: nest-asyncio>=1.5 in c:\\users\\rolo\\anaconda3\\lib\\site-packages (from notebook>=6.0->jupyter-pytest-2) (1.5.5)\n",
      "Requirement already satisfied: Send2Trash>=1.8.0 in c:\\users\\rolo\\anaconda3\\lib\\site-packages (from notebook>=6.0->jupyter-pytest-2) (1.8.0)\n",
      "Requirement already satisfied: prometheus-client in c:\\users\\rolo\\anaconda3\\lib\\site-packages (from notebook>=6.0->jupyter-pytest-2) (0.13.1)\n",
      "Requirement already satisfied: jupyter-client>=5.3.4 in c:\\users\\rolo\\anaconda3\\lib\\site-packages (from notebook>=6.0->jupyter-pytest-2) (6.1.12)\n",
      "Requirement already satisfied: ipykernel in c:\\users\\rolo\\anaconda3\\lib\\site-packages (from notebook>=6.0->jupyter-pytest-2) (6.9.1)\n",
      "Requirement already satisfied: jinja2 in c:\\users\\rolo\\anaconda3\\lib\\site-packages (from notebook>=6.0->jupyter-pytest-2) (2.11.3)\n",
      "Requirement already satisfied: argon2-cffi in c:\\users\\rolo\\anaconda3\\lib\\site-packages (from notebook>=6.0->jupyter-pytest-2) (21.3.0)\n",
      "Requirement already satisfied: jupyter-core>=4.6.1 in c:\\users\\rolo\\anaconda3\\lib\\site-packages (from notebook>=6.0->jupyter-pytest-2) (4.9.2)\n",
      "Requirement already satisfied: nbformat in c:\\users\\rolo\\anaconda3\\lib\\site-packages (from notebook>=6.0->jupyter-pytest-2) (5.3.0)\n",
      "Requirement already satisfied: terminado>=0.8.3 in c:\\users\\rolo\\anaconda3\\lib\\site-packages (from notebook>=6.0->jupyter-pytest-2) (0.13.1)\n",
      "Requirement already satisfied: ipython-genutils in c:\\users\\rolo\\anaconda3\\lib\\site-packages (from notebook>=6.0->jupyter-pytest-2) (0.2.0)\n",
      "Requirement already satisfied: nbconvert in c:\\users\\rolo\\anaconda3\\lib\\site-packages (from notebook>=6.0->jupyter-pytest-2) (6.4.4)\n",
      "Requirement already satisfied: traitlets>=4.2.1 in c:\\users\\rolo\\anaconda3\\lib\\site-packages (from notebook>=6.0->jupyter-pytest-2) (5.1.1)\n",
      "Requirement already satisfied: tornado>=6.1 in c:\\users\\rolo\\anaconda3\\lib\\site-packages (from notebook>=6.0->jupyter-pytest-2) (6.1)\n",
      "Requirement already satisfied: pyzmq>=17 in c:\\users\\rolo\\anaconda3\\lib\\site-packages (from notebook>=6.0->jupyter-pytest-2) (22.3.0)\n",
      "Requirement already satisfied: attrs>=19.2.0 in c:\\users\\rolo\\anaconda3\\lib\\site-packages (from pytest>=5.0->jupyter-pytest-2) (21.4.0)\n",
      "Requirement already satisfied: iniconfig in c:\\users\\rolo\\anaconda3\\lib\\site-packages (from pytest>=5.0->jupyter-pytest-2) (1.1.1)\n",
      "Requirement already satisfied: packaging in c:\\users\\rolo\\anaconda3\\lib\\site-packages (from pytest>=5.0->jupyter-pytest-2) (21.3)\n",
      "Requirement already satisfied: pluggy<2.0,>=0.12 in c:\\users\\rolo\\anaconda3\\lib\\site-packages (from pytest>=5.0->jupyter-pytest-2) (1.0.0)\n",
      "Requirement already satisfied: py>=1.8.2 in c:\\users\\rolo\\anaconda3\\lib\\site-packages (from pytest>=5.0->jupyter-pytest-2) (1.11.0)\n",
      "Requirement already satisfied: tomli>=1.0.0 in c:\\users\\rolo\\anaconda3\\lib\\site-packages (from pytest>=5.0->jupyter-pytest-2) (1.2.2)\n",
      "Requirement already satisfied: atomicwrites>=1.0 in c:\\users\\rolo\\anaconda3\\lib\\site-packages (from pytest>=5.0->jupyter-pytest-2) (1.4.0)\n",
      "Requirement already satisfied: colorama in c:\\users\\rolo\\anaconda3\\lib\\site-packages (from pytest>=5.0->jupyter-pytest-2) (0.4.4)\n",
      "Requirement already satisfied: python-dateutil>=2.1 in c:\\users\\rolo\\anaconda3\\lib\\site-packages (from jupyter-client>=5.3.4->notebook>=6.0->jupyter-pytest-2) (2.8.2)\n",
      "Requirement already satisfied: pywin32>=1.0 in c:\\users\\rolo\\anaconda3\\lib\\site-packages (from jupyter-core>=4.6.1->notebook>=6.0->jupyter-pytest-2) (302)\n",
      "Requirement already satisfied: pywinpty>=1.1.0 in c:\\users\\rolo\\anaconda3\\lib\\site-packages (from terminado>=0.8.3->notebook>=6.0->jupyter-pytest-2) (2.0.2)\n",
      "Requirement already satisfied: argon2-cffi-bindings in c:\\users\\rolo\\anaconda3\\lib\\site-packages (from argon2-cffi->notebook>=6.0->jupyter-pytest-2) (21.2.0)\n",
      "Requirement already satisfied: ipython>=7.23.1 in c:\\users\\rolo\\anaconda3\\lib\\site-packages (from ipykernel->notebook>=6.0->jupyter-pytest-2) (8.2.0)\n",
      "Requirement already satisfied: debugpy<2.0,>=1.0.0 in c:\\users\\rolo\\anaconda3\\lib\\site-packages (from ipykernel->notebook>=6.0->jupyter-pytest-2) (1.5.1)\n",
      "Requirement already satisfied: matplotlib-inline<0.2.0,>=0.1.0 in c:\\users\\rolo\\anaconda3\\lib\\site-packages (from ipykernel->notebook>=6.0->jupyter-pytest-2) (0.1.2)\n",
      "Requirement already satisfied: MarkupSafe>=0.23 in c:\\users\\rolo\\anaconda3\\lib\\site-packages (from jinja2->notebook>=6.0->jupyter-pytest-2) (2.0.1)\n",
      "Requirement already satisfied: nbclient<0.6.0,>=0.5.0 in c:\\users\\rolo\\anaconda3\\lib\\site-packages (from nbconvert->notebook>=6.0->jupyter-pytest-2) (0.5.13)\n",
      "Requirement already satisfied: defusedxml in c:\\users\\rolo\\anaconda3\\lib\\site-packages (from nbconvert->notebook>=6.0->jupyter-pytest-2) (0.7.1)\n",
      "Requirement already satisfied: pygments>=2.4.1 in c:\\users\\rolo\\anaconda3\\lib\\site-packages (from nbconvert->notebook>=6.0->jupyter-pytest-2) (2.11.2)\n",
      "Requirement already satisfied: mistune<2,>=0.8.1 in c:\\users\\rolo\\anaconda3\\lib\\site-packages (from nbconvert->notebook>=6.0->jupyter-pytest-2) (0.8.4)\n",
      "Requirement already satisfied: bleach in c:\\users\\rolo\\anaconda3\\lib\\site-packages (from nbconvert->notebook>=6.0->jupyter-pytest-2) (4.1.0)\n",
      "Requirement already satisfied: testpath in c:\\users\\rolo\\anaconda3\\lib\\site-packages (from nbconvert->notebook>=6.0->jupyter-pytest-2) (0.5.0)\n",
      "Requirement already satisfied: entrypoints>=0.2.2 in c:\\users\\rolo\\anaconda3\\lib\\site-packages (from nbconvert->notebook>=6.0->jupyter-pytest-2) (0.4)\n",
      "Requirement already satisfied: pandocfilters>=1.4.1 in c:\\users\\rolo\\anaconda3\\lib\\site-packages (from nbconvert->notebook>=6.0->jupyter-pytest-2) (1.5.0)\n",
      "Requirement already satisfied: beautifulsoup4 in c:\\users\\rolo\\anaconda3\\lib\\site-packages (from nbconvert->notebook>=6.0->jupyter-pytest-2) (4.11.1)\n",
      "Requirement already satisfied: jupyterlab-pygments in c:\\users\\rolo\\anaconda3\\lib\\site-packages (from nbconvert->notebook>=6.0->jupyter-pytest-2) (0.1.2)\n",
      "Requirement already satisfied: fastjsonschema in c:\\users\\rolo\\anaconda3\\lib\\site-packages (from nbformat->notebook>=6.0->jupyter-pytest-2) (2.15.1)\n",
      "Requirement already satisfied: jsonschema>=2.6 in c:\\users\\rolo\\anaconda3\\lib\\site-packages (from nbformat->notebook>=6.0->jupyter-pytest-2) (4.4.0)\n",
      "Requirement already satisfied: pyparsing!=3.0.5,>=2.0.2 in c:\\users\\rolo\\anaconda3\\lib\\site-packages (from packaging->pytest>=5.0->jupyter-pytest-2) (3.0.4)\n",
      "Requirement already satisfied: prompt-toolkit!=3.0.0,!=3.0.1,<3.1.0,>=2.0.0 in c:\\users\\rolo\\anaconda3\\lib\\site-packages (from ipython>=7.23.1->ipykernel->notebook>=6.0->jupyter-pytest-2) (3.0.20)\n",
      "Requirement already satisfied: setuptools>=18.5 in c:\\users\\rolo\\anaconda3\\lib\\site-packages (from ipython>=7.23.1->ipykernel->notebook>=6.0->jupyter-pytest-2) (61.2.0)\n",
      "Requirement already satisfied: pickleshare in c:\\users\\rolo\\anaconda3\\lib\\site-packages (from ipython>=7.23.1->ipykernel->notebook>=6.0->jupyter-pytest-2) (0.7.5)\n",
      "Requirement already satisfied: decorator in c:\\users\\rolo\\anaconda3\\lib\\site-packages (from ipython>=7.23.1->ipykernel->notebook>=6.0->jupyter-pytest-2) (5.1.1)\n",
      "Requirement already satisfied: stack-data in c:\\users\\rolo\\anaconda3\\lib\\site-packages (from ipython>=7.23.1->ipykernel->notebook>=6.0->jupyter-pytest-2) (0.2.0)\n",
      "Requirement already satisfied: backcall in c:\\users\\rolo\\anaconda3\\lib\\site-packages (from ipython>=7.23.1->ipykernel->notebook>=6.0->jupyter-pytest-2) (0.2.0)\n",
      "Requirement already satisfied: jedi>=0.16 in c:\\users\\rolo\\anaconda3\\lib\\site-packages (from ipython>=7.23.1->ipykernel->notebook>=6.0->jupyter-pytest-2) (0.18.1)\n",
      "Requirement already satisfied: pyrsistent!=0.17.0,!=0.17.1,!=0.17.2,>=0.14.0 in c:\\users\\rolo\\anaconda3\\lib\\site-packages (from jsonschema>=2.6->nbformat->notebook>=6.0->jupyter-pytest-2) (0.18.0)\n",
      "Requirement already satisfied: six>=1.5 in c:\\users\\rolo\\anaconda3\\lib\\site-packages (from python-dateutil>=2.1->jupyter-client>=5.3.4->notebook>=6.0->jupyter-pytest-2) (1.16.0)\n",
      "Requirement already satisfied: cffi>=1.0.1 in c:\\users\\rolo\\anaconda3\\lib\\site-packages (from argon2-cffi-bindings->argon2-cffi->notebook>=6.0->jupyter-pytest-2) (1.15.0)\n",
      "Requirement already satisfied: soupsieve>1.2 in c:\\users\\rolo\\anaconda3\\lib\\site-packages (from beautifulsoup4->nbconvert->notebook>=6.0->jupyter-pytest-2) (2.3.1)\n",
      "Requirement already satisfied: webencodings in c:\\users\\rolo\\anaconda3\\lib\\site-packages (from bleach->nbconvert->notebook>=6.0->jupyter-pytest-2) (0.5.1)\n",
      "Requirement already satisfied: pycparser in c:\\users\\rolo\\anaconda3\\lib\\site-packages (from cffi>=1.0.1->argon2-cffi-bindings->argon2-cffi->notebook>=6.0->jupyter-pytest-2) (2.21)\n",
      "Requirement already satisfied: parso<0.9.0,>=0.8.0 in c:\\users\\rolo\\anaconda3\\lib\\site-packages (from jedi>=0.16->ipython>=7.23.1->ipykernel->notebook>=6.0->jupyter-pytest-2) (0.8.3)\n",
      "Requirement already satisfied: wcwidth in c:\\users\\rolo\\anaconda3\\lib\\site-packages (from prompt-toolkit!=3.0.0,!=3.0.1,<3.1.0,>=2.0.0->ipython>=7.23.1->ipykernel->notebook>=6.0->jupyter-pytest-2) (0.2.5)\n",
      "Requirement already satisfied: asttokens in c:\\users\\rolo\\anaconda3\\lib\\site-packages (from stack-data->ipython>=7.23.1->ipykernel->notebook>=6.0->jupyter-pytest-2) (2.0.5)\n",
      "Requirement already satisfied: executing in c:\\users\\rolo\\anaconda3\\lib\\site-packages (from stack-data->ipython>=7.23.1->ipykernel->notebook>=6.0->jupyter-pytest-2) (0.8.3)\n",
      "Requirement already satisfied: pure-eval in c:\\users\\rolo\\anaconda3\\lib\\site-packages (from stack-data->ipython>=7.23.1->ipykernel->notebook>=6.0->jupyter-pytest-2) (0.2.2)\n",
      "Building wheels for collected packages: jupyter-pytest-2\n",
      "  Building wheel for jupyter-pytest-2 (setup.py): started\n",
      "  Building wheel for jupyter-pytest-2 (setup.py): finished with status 'done'\n",
      "  Created wheel for jupyter-pytest-2: filename=jupyter_pytest_2-1.0.1-py3-none-any.whl size=3146 sha256=0d7683eae4de6cedf2b41469c2db00ad349fd991dbb3df1b50802a84b12996c2\n",
      "  Stored in directory: c:\\users\\rolo\\appdata\\local\\pip\\cache\\wheels\\88\\1f\\c9\\509d507cee629e95b3c2288288372c25780fb4b3fc6431fa29\n",
      "Successfully built jupyter-pytest-2\n",
      "Installing collected packages: jupyter-pytest-2\n",
      "Successfully installed jupyter-pytest-2-1.0.1\n",
      "Note: you may need to restart the kernel to use updated packages.\n"
     ]
    }
   ],
   "source": [
    "pip install jupyter-pytest-2"
   ]
  },
  {
   "cell_type": "code",
   "execution_count": 1,
   "id": "5ee5c9a9",
   "metadata": {},
   "outputs": [],
   "source": [
    "import pytest"
   ]
  },
  {
   "cell_type": "code",
   "execution_count": 13,
   "id": "088b97f6",
   "metadata": {},
   "outputs": [],
   "source": [
    "@pytest.fixture()\n",
    "def foo():\n",
    "    return 'foo'\n",
    "\n",
    "def test_foo(foo):\n",
    "    assert foo == 'foo'"
   ]
  },
  {
   "cell_type": "code",
   "execution_count": 14,
   "id": "caed9f14",
   "metadata": {},
   "outputs": [
    {
     "name": "stdout",
     "output_type": "stream",
     "text": [
      "================================================= test session starts =================================================\n",
      "platform win32 -- Python 3.9.12, pytest-7.1.1, pluggy-1.0.0 -- C:\\Users\\ROLO\\anaconda3\\python.exe\n",
      "cachedir: .pytest_cache\n",
      "rootdir: C:\\Users\\ROLO\\Python-Jupyter\n",
      "plugins: anyio-3.5.0, jupyter-pytest-2-1.0.1, base-url-2.0.0, playwright-0.3.0\n",
      "collecting ... collected 1 item\n",
      "\n",
      ".::test_foo PASSED                                                                                               [100%]\n",
      "\n",
      "================================================== warnings summary ===================================================\n",
      "..\\anaconda3\\lib\\site-packages\\_pytest\\nodes.py:140\n",
      "  C:\\Users\\ROLO\\anaconda3\\lib\\site-packages\\_pytest\\nodes.py:140: PytestRemovedIn8Warning: The (fspath: py.path.local) argument to IPythonNamespaceCollector is deprecated. Please use the (path: pathlib.Path) argument instead.\n",
      "  See https://docs.pytest.org/en/latest/deprecations.html#fspath-argument-for-node-constructors-replaced-with-pathlib-path\n",
      "    return super().__call__(*k, **kw)\n",
      "\n",
      "-- Docs: https://docs.pytest.org/en/stable/how-to/capture-warnings.html\n",
      "============================================ 1 passed, 1 warning in 0.01s =============================================\n"
     ]
    },
    {
     "data": {
      "text/plain": [
       "<ExitCode.OK: 0>"
      ]
     },
     "execution_count": 14,
     "metadata": {},
     "output_type": "execute_result"
    }
   ],
   "source": [
    "pytest.main(args=['-v'])"
   ]
  },
  {
   "cell_type": "code",
   "execution_count": null,
   "id": "5e91ace8",
   "metadata": {},
   "outputs": [],
   "source": []
  }
 ],
 "metadata": {
  "kernelspec": {
   "display_name": "Python 3 (ipykernel)",
   "language": "python",
   "name": "python3"
  },
  "language_info": {
   "codemirror_mode": {
    "name": "ipython",
    "version": 3
   },
   "file_extension": ".py",
   "mimetype": "text/x-python",
   "name": "python",
   "nbconvert_exporter": "python",
   "pygments_lexer": "ipython3",
   "version": "3.9.12"
  }
 },
 "nbformat": 4,
 "nbformat_minor": 5
}
